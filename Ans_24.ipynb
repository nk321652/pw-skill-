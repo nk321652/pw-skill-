{
  "nbformat": 4,
  "nbformat_minor": 0,
  "metadata": {
    "colab": {
      "provenance": []
    },
    "kernelspec": {
      "name": "python3",
      "display_name": "Python 3"
    },
    "language_info": {
      "name": "python"
    }
  },
  "cells": [
    {
      "cell_type": "markdown",
      "source": [
        "Method chaining in python is a programming technique used in object oriented programming where multiple methods are called sequentially on the same object in a single line of code .This is achieved by having each method in the chain return the object instance (self) after performing its operation. The allows the subsequent method inthe chain to be called directly on the result of the previous method."
      ],
      "metadata": {
        "id": "pkvrMDASi_s-"
      }
    },
    {
      "cell_type": "code",
      "source": [
        "class StringBuilder:\n",
        "    def __init__(self,text=\"\"):\n",
        "      self.text = text\n",
        "\n",
        "    def append(self,text):\n",
        "      self.text += text\n",
        "      return self\n",
        "\n",
        "    def prepend(self,text):\n",
        "      self.text = text + self.text\n",
        "      return self\n",
        "class StringBuilder:\n",
        "    def __init__(self,text=\"\"):\n",
        "      self.text = text\n",
        "\n",
        "    def append(self,text):\n",
        "      self.text += text\n",
        "      return self\n",
        "\n",
        "    def prepend(self,text):\n",
        "      self.text = text + self.text\n",
        "      return self\n",
        "\n",
        "    def to__upper__(self):\n",
        "      self.text = self.text.upper()\n",
        "      return self\n",
        "\n",
        "    def to__lower__(self):\n",
        "      self.text = self.text.lower()\n",
        "class StringBuilder:\n",
        "    def __init__(self,text=\"\"):\n",
        "      self.text = text\n",
        "\n",
        "    def append(self,text):\n",
        "      self.text += text\n",
        "      return self\n",
        "\n",
        "    def prepend(self,text):\n",
        "      self.text = text + self.text\n",
        "      return self\n",
        "\n",
        "    def to__upper__(self):\n",
        "      self.text = self.text.upper()\n",
        "      return self\n",
        "\n",
        "    def to__lower__(self):\n",
        "      self.text = self.text.lower()\n",
        "      return self\n",
        "    def to__lower__(self):\n",
        "      self.text = self.text.lower()\n",
        "      return self"
      ],
      "metadata": {
        "id": "NTWfOYcskPRo"
      },
      "execution_count": 3,
      "outputs": []
    }
  ]
}