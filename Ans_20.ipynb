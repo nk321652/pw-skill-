{
  "nbformat": 4,
  "nbformat_minor": 0,
  "metadata": {
    "colab": {
      "provenance": []
    },
    "kernelspec": {
      "name": "python3",
      "display_name": "Python 3"
    },
    "language_info": {
      "name": "python"
    }
  },
  "cells": [
    {
      "cell_type": "markdown",
      "source": [
        "Super function in python is used to call methods from a parent class in a subclass.It provides a way to access and utilize the functionality of the superclass called using super() ,it searches for the method in the method resolution order of the class.The MRO defines the order in which base classes are searched when looking for a method."
      ],
      "metadata": {
        "id": "zFI33eGZQy0j"
      }
    },
    {
      "cell_type": "code",
      "source": [
        "class Parent:\n",
        "  def __init__(self,name):\n",
        "    self.name = name\n",
        "  def display(self):\n",
        "    print(\"Parent Name:\",self.name)\n",
        "\n",
        "class Child(Parent):\n",
        "  def __init__(self,name,age):\n",
        "    super().__init__(name)\n",
        "    self.age = age\n",
        "\n",
        "  def display(self):\n",
        "    super().display()\n",
        "    print(\"Child Age:\",self.age)\n",
        "\n",
        "child = Child(\"Alice\",10)\n",
        "child.display()\n",
        "\n",
        "\n",
        "class Child(Parent):\n",
        "  def __init__(self,name,age):\n",
        "    super().__init__(name)\n",
        "    self.age = age\n",
        "\n",
        "    def display(self):\n",
        "      super().display()\n",
        "      print(\"Child Age:\",self.age)\n",
        "\n",
        "child2 = Child(\"Alice\", 10)\n",
        "child2.display()\n",
        ""
      ],
      "metadata": {
        "colab": {
          "base_uri": "https://localhost:8080/"
        },
        "id": "SYYd7JsURcYz",
        "outputId": "01739b7c-c70e-4409-f822-d7899a4e47eb"
      },
      "execution_count": 5,
      "outputs": [
        {
          "output_type": "stream",
          "name": "stdout",
          "text": [
            "Parent Name: Alice\n",
            "Child Age: 10\n",
            "Parent Name: Alice\n"
          ]
        }
      ]
    }
  ]
}