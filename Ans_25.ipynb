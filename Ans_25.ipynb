{
  "nbformat": 4,
  "nbformat_minor": 0,
  "metadata": {
    "colab": {
      "provenance": []
    },
    "kernelspec": {
      "name": "python3",
      "display_name": "Python 3"
    },
    "language_info": {
      "name": "python"
    }
  },
  "cells": [
    {
      "cell_type": "markdown",
      "source": [
        "The __call__ method in python enables instances of a class to be called like regular functions.When a class defines the __call__ method , its instances become callable objects .This allows you to write code that is more concise and expressive,as it treates objects similar to functions."
      ],
      "metadata": {
        "id": "GZdhFECqlW6m"
      }
    },
    {
      "cell_type": "code",
      "source": [
        "class Examples:\n",
        "  def __init__(self, name):\n",
        "    self.name = name\n",
        "class Examples:\n",
        "  def __init__(self, name):\n",
        "    self.name = name\n",
        "\n",
        "  def __call__(self, greeting):\n",
        "    print(f\"{greeting}, {self.name}!\")\n",
        "\n",
        "obj = Examples(\"Alice\")\n",
        "\n",
        "message = obj(\"Hello\")\n",
        "print(message)\n",
        "\n",
        "message = obj(\"Good morning\")\n",
        "print(message)\n",
        "\n",
        "message = obj(\"Good morning\")\n",
        "print(message)\n",
        "\n",
        "message = obj(\"Hello\")\n",
        "print(message)"
      ],
      "metadata": {
        "colab": {
          "base_uri": "https://localhost:8080/"
        },
        "id": "YOoqfbCkmUEi",
        "outputId": "67427b98-9a11-4949-e3b6-d174612544f1"
      },
      "execution_count": 3,
      "outputs": [
        {
          "output_type": "stream",
          "name": "stdout",
          "text": [
            "Hello, Alice!\n",
            "None\n",
            "Good morning, Alice!\n",
            "None\n",
            "Good morning, Alice!\n",
            "None\n",
            "Hello, Alice!\n",
            "None\n"
          ]
        }
      ]
    }
  ]
}