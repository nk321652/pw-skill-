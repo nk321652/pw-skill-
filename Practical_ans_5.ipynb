{
  "nbformat": 4,
  "nbformat_minor": 0,
  "metadata": {
    "colab": {
      "provenance": []
    },
    "kernelspec": {
      "name": "python3",
      "display_name": "Python 3"
    },
    "language_info": {
      "name": "python"
    }
  },
  "cells": [
    {
      "cell_type": "code",
      "execution_count": 6,
      "metadata": {
        "colab": {
          "base_uri": "https://localhost:8080/"
        },
        "id": "BfcYDmy9vu5A",
        "outputId": "f86a2a3d-4c3e-468b-9b15-3c00edb43091"
      },
      "outputs": [
        {
          "output_type": "stream",
          "name": "stdout",
          "text": [
            "Deposited $50\n"
          ]
        }
      ],
      "source": [
        "class BankAccount:\n",
        "    def __init__(self, initial_balance=0):\n",
        "        self.__balance = initial_balance\n",
        "\n",
        "    def deposit(self, amount):\n",
        "        if amount > 0:\n",
        "          self.__balance += amount\n",
        "          print(f\"Deposited ${amount}\")\n",
        "        else:\n",
        "          print(\"Deposit amount must be positive.\")\n",
        "\n",
        "          def withdraw(self, amount):\n",
        "            if 0 < amount <= self.__balance:\n",
        "              self.__balance -= amount\n",
        "              print(f\"Withdrawn: ${amount}\")\n",
        "            else:\n",
        "              print(\"Insufficient balance or invalid amount.\")\n",
        "\n",
        "          def check_balance(self):\n",
        "              print(f\"Current balance: ${self.__balance}\")\n",
        "\n",
        "account = BankAccount(100)\n",
        "account.deposit(50)"
      ]
    }
  ]
}