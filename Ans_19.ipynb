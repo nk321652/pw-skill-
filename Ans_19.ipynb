{
  "nbformat": 4,
  "nbformat_minor": 0,
  "metadata": {
    "colab": {
      "provenance": []
    },
    "kernelspec": {
      "name": "python3",
      "display_name": "Python 3"
    },
    "language_info": {
      "name": "python"
    }
  },
  "cells": [
    {
      "cell_type": "markdown",
      "source": [
        "In python the __str__ and __repr__ methods are special methods used to define how objects are represented as strings. they are crucial for providing informative and user friendly out put when working with custom classes.\n",
        "\n",
        "\n",
        "__str__(self):This method returns a human readable string representation of an object .It called by the built in str() function and impalicity when using the print() function .The primary goal of __str__ is to provide a user friendly output that is easy  to understand.\n",
        "\n",
        "__repr__(self):This method returns an unambigious string representation of an object , often used for debugging and developement purposes ."
      ],
      "metadata": {
        "id": "bGk9amfCM6en"
      }
    },
    {
      "cell_type": "code",
      "source": [
        "class Myclass:\n",
        "  def __init__(self,name,value):\n",
        "    self.name = name\n",
        "    self.value = value\n",
        "\n",
        "  def __str__(self):\n",
        "    return f\"Myclass(name='{self.name}',value={self.value})\"\n",
        "class Myclass:\n",
        "  def __init__(self,name,value):\n",
        "    self.name = name\n",
        "    self.value = value\n",
        "\n",
        "  def __str__(self):\n",
        "    return f\"Myclass(name='{self.name}',value={self.value})\"\n",
        "\n",
        "  def __repr__(self):\n",
        "    return f\"Myclass(name='{self.name}',value={self.value})\"\n",
        "\n",
        "obj = Myclass('example', 42)\n",
        "\n",
        "print(str(obj))\n",
        "print(repr(obj))\n",
        "\n",
        "print(str(obj))\n",
        "print(repr(obj))"
      ],
      "metadata": {
        "colab": {
          "base_uri": "https://localhost:8080/"
        },
        "id": "gKu3eHtdOvIL",
        "outputId": "248079bf-3df0-4693-fd4d-9d61e28bea27"
      },
      "execution_count": 2,
      "outputs": [
        {
          "output_type": "stream",
          "name": "stdout",
          "text": [
            "Myclass(name='example',value=42)\n",
            "Myclass(name='example',value=42)\n",
            "Myclass(name='example',value=42)\n",
            "Myclass(name='example',value=42)\n"
          ]
        }
      ]
    }
  ]
}