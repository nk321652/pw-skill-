{
  "nbformat": 4,
  "nbformat_minor": 0,
  "metadata": {
    "colab": {
      "provenance": []
    },
    "kernelspec": {
      "name": "python3",
      "display_name": "Python 3"
    },
    "language_info": {
      "name": "python"
    }
  },
  "cells": [
    {
      "cell_type": "markdown",
      "source": [
        "The __del__ method in python is a special method , also known as a destructor. It is called when an object is garbage collected , which occures after all references to the object have been detected. The primary significance of __del__ lies in its ability to perform cleanup actions before an object is removed from memory.\n",
        "\n",
        "\n",
        "When an object is no longer needed pythons garbage collector reclaims the memory it occupies .Before doing so , if the  object has  a __del__ method defined this method is invoked .This provides an oppertunities to realese external resources such as closing files or network connecting , that the object might have been using.\n",
        "\n",
        "\n"
      ],
      "metadata": {
        "id": "32DGN0P6TJHY"
      }
    }
  ]
}