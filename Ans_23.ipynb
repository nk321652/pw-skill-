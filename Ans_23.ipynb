{
  "nbformat": 4,
  "nbformat_minor": 0,
  "metadata": {
    "colab": {
      "provenance": []
    },
    "kernelspec": {
      "name": "python3",
      "display_name": "Python 3"
    },
    "language_info": {
      "name": "python"
    }
  },
  "cells": [
    {
      "cell_type": "markdown",
      "source": [
        "Polymorphism meaning many forms allows objects of different classes to respond to the same method call in their own specific ways . When combined with inheritance , polymorphism enables a child class to redefine a method in inherited from its parent class a process known as method overriding.\n",
        "\n",
        "When a method is called on an object , python first check if the objects's class has an implementataion of that method . If not found , it searches the parent class , and so on up the inheritance hierarchy.If  a child class overrides a method ,its implementation is used instead of the parent's."
      ],
      "metadata": {
        "id": "PzRymJ4jZCUK"
      }
    },
    {
      "cell_type": "code",
      "source": [
        "class Animal:\n",
        "  def sound(self):\n",
        "      return \"Generic animal sound\"\n",
        "\n",
        "class Dog(Animal):\n",
        "  def sound(self):\n",
        "      return \"Woof!\"\n",
        "\n",
        "class Cat(Animal):\n",
        "  def sound(self):\n",
        "      return \"Meow!\"\n",
        "\n",
        "def animal_sound(animal):\n",
        "    return animal.sound()\n",
        "\n",
        "dog =Dog()\n",
        "cat = Cat()\n",
        "\n",
        "\n",
        "print(animal_sound(dog))\n",
        "print(animal_sound(cat))"
      ],
      "metadata": {
        "colab": {
          "base_uri": "https://localhost:8080/"
        },
        "id": "Ga4I8EV3aROV",
        "outputId": "e7a1bb48-b52f-454e-a41f-da42f1b9f5d7"
      },
      "execution_count": 1,
      "outputs": [
        {
          "output_type": "stream",
          "name": "stdout",
          "text": [
            "Woof!\n",
            "Meow!\n"
          ]
        }
      ]
    }
  ]
}