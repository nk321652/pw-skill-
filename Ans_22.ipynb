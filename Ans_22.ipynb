{
  "nbformat": 4,
  "nbformat_minor": 0,
  "metadata": {
    "colab": {
      "provenance": [],
      "name": "Ans 22"
    },
    "kernelspec": {
      "name": "python3",
      "display_name": "Python 3"
    },
    "language_info": {
      "name": "python"
    }
  },
  "cells": [
    {
      "cell_type": "markdown",
      "source": [
        "**Classmethod**\n",
        "\n",
        "       Takes the class itself as the first argument (cls).\n",
        "       can access and modify class level attributes .\n",
        "       often used for factory methods or when needing to work with class specific data.\n",
        "\n",
        "**Staticmethod**\n",
        "       \n",
        "       Does not take self or cls as arguments .\n",
        "       Cannot access or modify class or instance attributes directly.\n",
        "       useful for utility functions that are related to the class but dont depend on its state."
      ],
      "metadata": {
        "id": "U1mylFKZVA0j"
      }
    },
    {
      "cell_type": "code",
      "source": [
        "class Myclass\n",
        "     class_var = \"I am a class variable\"\n",
        "\n",
        "     def __init__(self, instance_var):\n",
        "         self.instance_var = instance_var\n",
        "\n",
        "        @classmethod\n",
        "        def class_method(cls):\n",
        "            print(\"class method called\")\n",
        "            print(cls.class_var)\n",
        "            return cls()\n",
        "\n",
        "        @staticmethod\n",
        "        def static_method(x,y):\n",
        "            print(\"static method called\")\n",
        "            return x + y\n",
        "\n",
        "obj = Myclass(\"I am an instance variable\")\n",
        "print(obj.instance_var)\n"
      ],
      "metadata": {
        "id": "gCChQnxIWNES"
      },
      "execution_count": null,
      "outputs": []
    }
  ]
}