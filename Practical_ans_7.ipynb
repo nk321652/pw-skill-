{
  "nbformat": 4,
  "nbformat_minor": 0,
  "metadata": {
    "colab": {
      "provenance": []
    },
    "kernelspec": {
      "name": "python3",
      "display_name": "Python 3"
    },
    "language_info": {
      "name": "python"
    }
  },
  "cells": [
    {
      "cell_type": "code",
      "execution_count": 2,
      "metadata": {
        "colab": {
          "base_uri": "https://localhost:8080/"
        },
        "id": "oSL0VcbH5PVt",
        "outputId": "6972d75f-a27b-4ab3-f773-f73e24d010c4"
      },
      "outputs": [
        {
          "output_type": "stream",
          "name": "stdout",
          "text": [
            "Sum: 15\n",
            "Difference: 5\n"
          ]
        }
      ],
      "source": [
        "class MaatOperations:\n",
        "    @staticmethod\n",
        "    def add_numbers(a, b):\n",
        "        return a + b\n",
        "\n",
        "    @staticmethod\n",
        "    def subtract_numbers(a, b):\n",
        "        return a - b\n",
        "\n",
        "sum_result = MaatOperations.add_numbers(10, 5)\n",
        "print(f\"Sum: {sum_result}\")\n",
        "\n",
        "difference = MaatOperations.subtract_numbers(10, 5)\n",
        "print(f\"Difference: {difference}\")"
      ]
    }
  ]
}