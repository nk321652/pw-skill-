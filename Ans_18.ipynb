{
  "nbformat": 4,
  "nbformat_minor": 0,
  "metadata": {
    "colab": {
      "provenance": []
    },
    "kernelspec": {
      "name": "python3",
      "display_name": "Python 3"
    },
    "language_info": {
      "name": "python"
    }
  },
  "cells": [
    {
      "cell_type": "markdown",
      "source": [
        "Multiple iheritance in python is a feature that allows a class to inherit attributes and methods from more than one parent class .This enables a class to combine functionalities from different sources, promoting code reuse and flexibility."
      ],
      "metadata": {
        "id": "UUUmQA17KZTP"
      }
    },
    {
      "cell_type": "code",
      "source": [
        "class Base1:\n",
        "  def method1(self):\n",
        "    print(\"Method 1 from base 1\")\n",
        "\n",
        "class Base2:\n",
        "  def method2(self):\n",
        "    print(\"Method 2 from base 2\")\n",
        "\n",
        "class Derived(Base1,Base2):\n",
        "  def method3(self):\n",
        "    print(\"Method 3 from derived\")\n",
        "\n",
        "obj = Derived()\n",
        "obj.method1()\n",
        "obj.method2()\n",
        "obj.method3()"
      ],
      "metadata": {
        "colab": {
          "base_uri": "https://localhost:8080/"
        },
        "id": "m4pDDi_5LegJ",
        "outputId": "a2fd4091-a243-44f6-b638-1f863fdc517a"
      },
      "execution_count": 3,
      "outputs": [
        {
          "output_type": "stream",
          "name": "stdout",
          "text": [
            "Method 1 from base 1\n",
            "Method 2 from base 2\n",
            "Method 3 from derived\n"
          ]
        }
      ]
    }
  ]
}