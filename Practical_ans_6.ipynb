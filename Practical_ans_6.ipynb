{
  "nbformat": 4,
  "nbformat_minor": 0,
  "metadata": {
    "colab": {
      "provenance": []
    },
    "kernelspec": {
      "name": "python3",
      "display_name": "Python 3"
    },
    "language_info": {
      "name": "python"
    }
  },
  "cells": [
    {
      "cell_type": "code",
      "execution_count": 3,
      "metadata": {
        "colab": {
          "base_uri": "https://localhost:8080/"
        },
        "id": "hM8c-mL1yqAy",
        "outputId": "5c98c357-3efe-454a-b5b7-89ea68a0df0b"
      },
      "outputs": [
        {
          "output_type": "stream",
          "name": "stdout",
          "text": [
            "Strumming the guitar.\n",
            "Playing the piano.\n"
          ]
        }
      ],
      "source": [
        "class Instruments:\n",
        "  def play(self):\n",
        "      print(\"The instrument is playing.\")\n",
        "\n",
        "class Guitar(Instruments):\n",
        "  def play(self):\n",
        "      print(\"Strumming the guitar.\")\n",
        "\n",
        "class Piano(Instruments):\n",
        "  def play(self):\n",
        "      print(\"Playing the piano.\")\n",
        "\n",
        "def perform(instrument: Instruments):\n",
        "    instrument.play()\n",
        "\n",
        "guitar = Guitar()\n",
        "piano = Piano()\n",
        "\n",
        "perform(guitar)\n",
        "perform(piano)"
      ]
    }
  ]
}