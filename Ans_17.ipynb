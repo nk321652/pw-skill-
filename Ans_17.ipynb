{
  "nbformat": 4,
  "nbformat_minor": 0,
  "metadata": {
    "colab": {
      "provenance": []
    },
    "kernelspec": {
      "name": "python3",
      "display_name": "Python 3"
    },
    "language_info": {
      "name": "python"
    }
  },
  "cells": [
    {
      "cell_type": "markdown",
      "source": [
        "Class variables declared with in the class but outside any method or constructor , and typically use the static keyword.\n",
        "\n",
        "Scope accessible throughout the class including all methods constructor and other class level operations .\n",
        "\n",
        "Often used to store data constant or to keep track the number of instance created .\n",
        "\n",
        "Instance variables declared within the class but outside any methid or constructor but not using the static keyword.\n",
        "\n",
        "Accessible only within the specific instance where they are defined .\n",
        "\n",
        "Used to store unique data or attributes specific to each object.\n",
        "\n"
      ],
      "metadata": {
        "id": "wNAN8tSXxpkQ"
      }
    }
  ]
}