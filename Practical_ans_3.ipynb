{
  "nbformat": 4,
  "nbformat_minor": 0,
  "metadata": {
    "colab": {
      "provenance": []
    },
    "kernelspec": {
      "name": "python3",
      "display_name": "Python 3"
    },
    "language_info": {
      "name": "python"
    }
  },
  "cells": [
    {
      "cell_type": "code",
      "source": [
        "class Vehicle:\n",
        "    def __init__(self, vehicle_type):\n",
        "        self.type = vehicle_type\n",
        "\n",
        "class Car(Vehicle):\n",
        "    def __init__(self, vehicle_type, brand):\n",
        "        super().__init__(vehicle_type)\n",
        "        self.brand = brand\n",
        "\n",
        "class ElectricCar(Car):\n",
        "  def __init__(self, vehicle_type,brand, battery_capacity):\n",
        "       super().__init__(vehicle_type, brand)\n",
        "       self.battery_capacity = battery_capacity\n",
        "\n",
        "  def display_info(self):\n",
        "      print(f\"Type: {self.type}\")\n",
        "      print(f\"Brand: {self.brand}\")\n",
        "      print(f\"Battery Capacity: {self.battery_capacity} kWh\")\n",
        "\n",
        "my_electric_car = ElectricCar(\"Electric vehicle\", \"Tesla\", 85)\n",
        "my_electric_car.display_info()"
      ],
      "metadata": {
        "colab": {
          "base_uri": "https://localhost:8080/"
        },
        "id": "99tlTzV5r0lU",
        "outputId": "a90c7d9e-51ba-43c2-b5cc-083e843cb67a"
      },
      "execution_count": 2,
      "outputs": [
        {
          "output_type": "stream",
          "name": "stdout",
          "text": [
            "Type: Electric vehicle\n",
            "Brand: Tesla\n",
            "Battery Capacity: 85 kWh\n"
          ]
        }
      ]
    }
  ]
}